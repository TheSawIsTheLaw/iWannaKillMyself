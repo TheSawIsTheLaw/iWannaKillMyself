{
 "cells": [
  {
   "cell_type": "code",
   "execution_count": 93,
   "metadata": {},
   "outputs": [],
   "source": [
    "import re\n",
    "\n",
    "def remove_emojis_and_new_lines(string):\n",
    "    emoji_pattern = re.compile(\"[\"\n",
    "                           u\"\\U0001F600-\\U0001F64F\"  # emoticons\n",
    "                           u\"\\U0001F300-\\U0001F5FF\"  # symbols & pictographs\n",
    "                           u\"\\U0001F680-\\U0001F6FF\"  # transport & map symbols\n",
    "                           u\"\\U0001F1E0-\\U0001F1FF\"  # flags (iOS)\n",
    "                           u\"\\U00002702-\\U000027B0\"\n",
    "                           u\"\\U000024C2-\\U0001F251\"\n",
    "                           \"]+\", flags=re.UNICODE)\n",
    "    return re.sub(r'\\n', ' ', re.sub(r'<emoji>(.*)</emoji>', '', emoji_pattern.sub(r'', str(string))))\n",
    "\n",
    "def preprocess(df):\n",
    "    df['text'] = df['text'].apply(lambda it: remove_emojis_and_new_lines(re.sub(r'#', ' ', str(it))))\n",
    "    return df[(df['text'].str.isspace() == False) & (df['text'].str.len() != 0)]"
   ]
  },
  {
   "cell_type": "code",
   "execution_count": 94,
   "metadata": {},
   "outputs": [],
   "source": [
    "import pandas as pd\n",
    "from matplotlib import pyplot as plt\n",
    "\n",
    "non_suicidal = pd.read_csv(\"presuicidal_signals_dataset_twitter.csv\",delimiter=\"|\")\n",
    "non_suicidal = non_suicidal.loc[non_suicidal['label'] == 5].head(5000)[['text', 'label']].rename(columns={'label': 'class'}).replace(5, 0)\n",
    "\n",
    "suicidal = pd.read_csv(\"own_shit.csv\")[['text', 'class']]"
   ]
  },
  {
   "cell_type": "code",
   "execution_count": 95,
   "metadata": {},
   "outputs": [],
   "source": [
    "suicidal = preprocess(suicidal)\n",
    "suicidal.to_csv(\"suicidal.csv\")"
   ]
  },
  {
   "cell_type": "code",
   "execution_count": 96,
   "metadata": {},
   "outputs": [],
   "source": [
    "non_suicidal = preprocess(non_suicidal)\n",
    "non_suicidal.to_csv(\"non_suicidal.csv\")"
   ]
  },
  {
   "cell_type": "code",
   "execution_count": null,
   "metadata": {},
   "outputs": [],
   "source": []
  }
 ],
 "metadata": {
  "kernelspec": {
   "display_name": "Python 3",
   "language": "python",
   "name": "python3"
  },
  "language_info": {
   "codemirror_mode": {
    "name": "ipython",
    "version": 3
   },
   "file_extension": ".py",
   "mimetype": "text/x-python",
   "name": "python",
   "nbconvert_exporter": "python",
   "pygments_lexer": "ipython3",
   "version": "3.11.5"
  },
  "orig_nbformat": 4
 },
 "nbformat": 4,
 "nbformat_minor": 2
}
